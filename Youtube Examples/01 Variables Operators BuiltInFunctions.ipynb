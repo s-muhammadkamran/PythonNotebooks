{
 "cells": [
  {
   "cell_type": "markdown",
   "id": "49fa071b",
   "metadata": {},
   "source": [
    "<h1>Variables</h1>"
   ]
  },
  {
   "cell_type": "code",
   "execution_count": 8,
   "id": "8c8a3d9d",
   "metadata": {},
   "outputs": [],
   "source": [
    "x = \"Bismillah\"\n",
    "y = 1\n",
    "z = True"
   ]
  },
  {
   "cell_type": "code",
   "execution_count": 9,
   "id": "e45d496f",
   "metadata": {},
   "outputs": [
    {
     "name": "stdout",
     "output_type": "stream",
     "text": [
      "Bismillah 1 True\n"
     ]
    }
   ],
   "source": [
    "print(x, y, z)"
   ]
  },
  {
   "cell_type": "markdown",
   "id": "15bf8f34",
   "metadata": {},
   "source": [
    "<h2>Multiple Variable Assignment</h2>"
   ]
  },
  {
   "cell_type": "code",
   "execution_count": 10,
   "id": "364126b8",
   "metadata": {},
   "outputs": [
    {
     "name": "stdout",
     "output_type": "stream",
     "text": [
      "Bismillah 56 True\n"
     ]
    }
   ],
   "source": [
    "x, y ,z = \"Bismillah\", 56, True\n",
    "print(x, y, z)"
   ]
  },
  {
   "cell_type": "markdown",
   "id": "9d09932a",
   "metadata": {},
   "source": [
    "<h2>Set Assignment</h2>"
   ]
  },
  {
   "cell_type": "code",
   "execution_count": 11,
   "id": "1cd3f68d",
   "metadata": {},
   "outputs": [
    {
     "name": "stdout",
     "output_type": "stream",
     "text": [
      "('Bismillah', 56, True) ('Bismillah', 56, True) ('Bismillah', 56, True)\n"
     ]
    }
   ],
   "source": [
    "x = y = z = \"Bismillah\", 56, True\n",
    "print(x, y, z)"
   ]
  },
  {
   "cell_type": "markdown",
   "id": "10648c66",
   "metadata": {},
   "source": [
    "<h2>Expression </h2>"
   ]
  },
  {
   "cell_type": "code",
   "execution_count": 13,
   "id": "80d8163f",
   "metadata": {},
   "outputs": [
    {
     "data": {
      "text/plain": [
       "112"
      ]
     },
     "execution_count": 13,
     "metadata": {},
     "output_type": "execute_result"
    }
   ],
   "source": [
    "a = 23\n",
    "b = 89\n",
    "c = a + b\n",
    "c"
   ]
  },
  {
   "cell_type": "code",
   "execution_count": 2,
   "id": "8b3133d0",
   "metadata": {},
   "outputs": [],
   "source": [
    "#Errors you can't perform operations between 2 different data types\n",
    "#summation = c + \"HEllo\""
   ]
  },
  {
   "cell_type": "markdown",
   "id": "ff373f65",
   "metadata": {},
   "source": [
    "<h2>Operators</h2>"
   ]
  },
  {
   "cell_type": "code",
   "execution_count": 25,
   "id": "afb4ed1c",
   "metadata": {},
   "outputs": [
    {
     "name": "stdout",
     "output_type": "stream",
     "text": [
      "Addition 2 + 2 = 4 <class 'int'>\n",
      "Subtraction 2 - 7 = -5 <class 'int'>\n",
      "Multiplication 8 * 10 = 80 <class 'int'>\n",
      "Division 90 / 4 = 22.5 <class 'float'>\n",
      "Integer Division 90 // 4 = 22 <class 'int'>\n",
      "Power 2 ** 4 = 16 <class 'int'>\n",
      "Modulo 23 % 3 = 2 <class 'int'>\n"
     ]
    }
   ],
   "source": [
    "# Addition + \n",
    "print(\"Addition 2 + 2 =\", 2+2, type(2+2))\n",
    "\n",
    "# Subtraction - \n",
    "print(\"Subtraction 2 - 7 =\", 2-7, type(2-7))\n",
    "\n",
    "# Multiplication * \n",
    "print(\"Multiplication 8 * 10 =\", 8*10, type(8*10))\n",
    "\n",
    "# Division / \n",
    "print(\"Division 90 / 4 =\", 90/4, type(90/4))\n",
    "\n",
    "# Integer Division //\n",
    "print(\"Integer Division 90 // 4 =\", 90//4, type(90//4))\n",
    "\n",
    "# Power ** \n",
    "print(\"Power 2 ** 4 =\", 2 ** 4, type(2 ** 4))\n",
    "\n",
    "# Modulo % \n",
    "print(\"Modulo 23 % 3 =\", 23 % 3, type(23 % 3))"
   ]
  },
  {
   "cell_type": "markdown",
   "id": "976f12f3",
   "metadata": {},
   "source": [
    "<h2>Basic Data Types</h2>\n",
    "\n",
    "<ul>\n",
    "    <li>int</li>\n",
    "    <li>float</li>\n",
    "    <li>str</li>\n",
    "    <li>bool</li>\n",
    "</ul>"
   ]
  },
  {
   "cell_type": "code",
   "execution_count": 30,
   "id": "252a2fb0",
   "metadata": {},
   "outputs": [
    {
     "name": "stdout",
     "output_type": "stream",
     "text": [
      "2 <class 'int'>\n",
      "2.2 <class 'float'>\n",
      "True <class 'bool'>\n",
      "False <class 'bool'>\n",
      "Some Data <class 'str'>\n"
     ]
    }
   ],
   "source": [
    "print(\"2\", type(2))\n",
    "print(\"2.2\", type(2.2))\n",
    "print(\"True\", type(True))\n",
    "print(\"False\", type(False))\n",
    "print(\"Some Data\", type(\"Some Data\"))"
   ]
  },
  {
   "cell_type": "markdown",
   "id": "cc16fa71",
   "metadata": {},
   "source": [
    "<h2>Basic Builtin Functions</h2>"
   ]
  },
  {
   "cell_type": "code",
   "execution_count": 44,
   "id": "b83af546",
   "metadata": {},
   "outputs": [
    {
     "name": "stdout",
     "output_type": "stream",
     "text": [
      "type(198) <class 'int'>\n",
      "print('Hello World')\n",
      "len('Some Data') 9\n",
      "len([1,3,5,6]) 4\n",
      "min([5,6,7,8]) 5\n",
      "max([5,6,7,8]) 8\n",
      "range(10) range(0, 10)\n",
      "sum([1,2,4]) 7\n",
      "sorted(['A','G','B','D']) ['A', 'B', 'D', 'G']\n",
      "pow(5,2) 25\n",
      "abs(-546.67) 546.67\n"
     ]
    }
   ],
   "source": [
    "print(\"type(198)\", type(198))\n",
    "print(\"print('Hello World')\")\n",
    "print(\"len('Some Data')\", len('Some Data'))\n",
    "print(\"len([1,3,5,6])\", len([1,3,5,6]))\n",
    "print(\"min([5,6,7,8])\", min([5,6,7,8]))\n",
    "print(\"max([5,6,7,8])\", max([5,6,7,8]))\n",
    "print(\"range(10)\", range(10))\n",
    "print(\"sum([1,2,4])\", sum([1,2,4]))\n",
    "print(\"sorted(['A','G','B','D'])\", sorted(['A','G','B','D']))\n",
    "print(\"pow(5,2)\", pow(5,2))\n",
    "print(\"abs(-546.67)\", abs(-546.67))"
   ]
  },
  {
   "cell_type": "code",
   "execution_count": null,
   "id": "c625a23e",
   "metadata": {},
   "outputs": [],
   "source": []
  }
 ],
 "metadata": {
  "kernelspec": {
   "display_name": "Python 3 (ipykernel)",
   "language": "python",
   "name": "python3"
  },
  "language_info": {
   "codemirror_mode": {
    "name": "ipython",
    "version": 3
   },
   "file_extension": ".py",
   "mimetype": "text/x-python",
   "name": "python",
   "nbconvert_exporter": "python",
   "pygments_lexer": "ipython3",
   "version": "3.9.7"
  }
 },
 "nbformat": 4,
 "nbformat_minor": 5
}
