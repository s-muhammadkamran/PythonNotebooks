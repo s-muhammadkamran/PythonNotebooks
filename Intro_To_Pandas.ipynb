{
 "cells": [
  {
   "cell_type": "code",
   "execution_count": 1,
   "id": "7bcfb80e",
   "metadata": {},
   "outputs": [],
   "source": [
    "import pandas as pd"
   ]
  },
  {
   "cell_type": "code",
   "execution_count": 2,
   "id": "1abfcb57",
   "metadata": {},
   "outputs": [],
   "source": [
    "file_path = \"D:\\\\Python\\\\LinkedInLearning\\\\Ex_Files_Hands_On_Data_Sci_3\\\\Exercise Files\\\\MonthlyProductSales.csv\"\n",
    "df = pd.read_csv(file_path, encoding = \"ISO-8859-1\")"
   ]
  },
  {
   "cell_type": "code",
   "execution_count": 83,
   "id": "870a9500",
   "metadata": {
    "collapsed": true
   },
   "outputs": [
    {
     "data": {
      "text/html": [
       "<div>\n",
       "<style scoped>\n",
       "    .dataframe tbody tr th:only-of-type {\n",
       "        vertical-align: middle;\n",
       "    }\n",
       "\n",
       "    .dataframe tbody tr th {\n",
       "        vertical-align: top;\n",
       "    }\n",
       "\n",
       "    .dataframe thead th {\n",
       "        text-align: right;\n",
       "    }\n",
       "</style>\n",
       "<table border=\"1\" class=\"dataframe\">\n",
       "  <thead>\n",
       "    <tr style=\"text-align: right;\">\n",
       "      <th></th>\n",
       "      <th>Month of Order Date</th>\n",
       "      <th>Product Name</th>\n",
       "      <th>Sales</th>\n",
       "    </tr>\n",
       "  </thead>\n",
       "  <tbody>\n",
       "    <tr>\n",
       "      <th>0</th>\n",
       "      <td>2013-05-01</td>\n",
       "      <td>1.7 Cubic Foot Compact \"Cube\" Office Refrigera...</td>\n",
       "      <td>208.0</td>\n",
       "    </tr>\n",
       "    <tr>\n",
       "      <th>1</th>\n",
       "      <td>2015-06-01</td>\n",
       "      <td>1.7 Cubic Foot Compact \"Cube\" Office Refrigera...</td>\n",
       "      <td>208.0</td>\n",
       "    </tr>\n",
       "    <tr>\n",
       "      <th>2</th>\n",
       "      <td>2013-11-01</td>\n",
       "      <td>1.7 Cubic Foot Compact \"Cube\" Office Refrigera...</td>\n",
       "      <td>333.0</td>\n",
       "    </tr>\n",
       "    <tr>\n",
       "      <th>3</th>\n",
       "      <td>2016-07-01</td>\n",
       "      <td>1.7 Cubic Foot Compact \"Cube\" Office Refrigera...</td>\n",
       "      <td>416.0</td>\n",
       "    </tr>\n",
       "    <tr>\n",
       "      <th>4</th>\n",
       "      <td>2016-11-01</td>\n",
       "      <td>1.7 Cubic Foot Compact \"Cube\" Office Refrigera...</td>\n",
       "      <td>500.0</td>\n",
       "    </tr>\n",
       "    <tr>\n",
       "      <th>5</th>\n",
       "      <td>2015-08-01</td>\n",
       "      <td>1.7 Cubic Foot Compact \"Cube\" Office Refrigera...</td>\n",
       "      <td>1041.0</td>\n",
       "    </tr>\n",
       "    <tr>\n",
       "      <th>6</th>\n",
       "      <td>2013-11-01</td>\n",
       "      <td>1/4 Fold Party Design Invitations &amp; White Enve...</td>\n",
       "      <td>6.0</td>\n",
       "    </tr>\n",
       "    <tr>\n",
       "      <th>7</th>\n",
       "      <td>2014-11-01</td>\n",
       "      <td>1/4 Fold Party Design Invitations &amp; White Enve...</td>\n",
       "      <td>44.0</td>\n",
       "    </tr>\n",
       "    <tr>\n",
       "      <th>8</th>\n",
       "      <td>2014-12-01</td>\n",
       "      <td>3-ring staple pack</td>\n",
       "      <td>4.0</td>\n",
       "    </tr>\n",
       "    <tr>\n",
       "      <th>9</th>\n",
       "      <td>2013-01-01</td>\n",
       "      <td>3-ring staple pack</td>\n",
       "      <td>6.0</td>\n",
       "    </tr>\n",
       "  </tbody>\n",
       "</table>\n",
       "</div>"
      ],
      "text/plain": [
       "  Month of Order Date                                       Product Name  \\\n",
       "0          2013-05-01  1.7 Cubic Foot Compact \"Cube\" Office Refrigera...   \n",
       "1          2015-06-01  1.7 Cubic Foot Compact \"Cube\" Office Refrigera...   \n",
       "2          2013-11-01  1.7 Cubic Foot Compact \"Cube\" Office Refrigera...   \n",
       "3          2016-07-01  1.7 Cubic Foot Compact \"Cube\" Office Refrigera...   \n",
       "4          2016-11-01  1.7 Cubic Foot Compact \"Cube\" Office Refrigera...   \n",
       "5          2015-08-01  1.7 Cubic Foot Compact \"Cube\" Office Refrigera...   \n",
       "6          2013-11-01  1/4 Fold Party Design Invitations & White Enve...   \n",
       "7          2014-11-01  1/4 Fold Party Design Invitations & White Enve...   \n",
       "8          2014-12-01                                 3-ring staple pack   \n",
       "9          2013-01-01                                 3-ring staple pack   \n",
       "\n",
       "    Sales  \n",
       "0   208.0  \n",
       "1   208.0  \n",
       "2   333.0  \n",
       "3   416.0  \n",
       "4   500.0  \n",
       "5  1041.0  \n",
       "6     6.0  \n",
       "7    44.0  \n",
       "8     4.0  \n",
       "9     6.0  "
      ]
     },
     "execution_count": 83,
     "metadata": {},
     "output_type": "execute_result"
    }
   ],
   "source": [
    "df.head(n=10)"
   ]
  },
  {
   "cell_type": "code",
   "execution_count": 81,
   "id": "52c5e4cf",
   "metadata": {
    "collapsed": true
   },
   "outputs": [
    {
     "data": {
      "text/html": [
       "<div>\n",
       "<style scoped>\n",
       "    .dataframe tbody tr th:only-of-type {\n",
       "        vertical-align: middle;\n",
       "    }\n",
       "\n",
       "    .dataframe tbody tr th {\n",
       "        vertical-align: top;\n",
       "    }\n",
       "\n",
       "    .dataframe thead th {\n",
       "        text-align: right;\n",
       "    }\n",
       "</style>\n",
       "<table border=\"1\" class=\"dataframe\">\n",
       "  <thead>\n",
       "    <tr style=\"text-align: right;\">\n",
       "      <th></th>\n",
       "      <th>Product Name</th>\n",
       "      <th>Sales</th>\n",
       "    </tr>\n",
       "    <tr>\n",
       "      <th>Month of Order Date</th>\n",
       "      <th></th>\n",
       "      <th></th>\n",
       "    </tr>\n",
       "  </thead>\n",
       "  <tbody>\n",
       "    <tr>\n",
       "      <th>2015-07-01</th>\n",
       "      <td>Zipper Ring Binder Pockets</td>\n",
       "      <td>2.0</td>\n",
       "    </tr>\n",
       "    <tr>\n",
       "      <th>2015-12-01</th>\n",
       "      <td>Zipper Ring Binder Pockets</td>\n",
       "      <td>3.0</td>\n",
       "    </tr>\n",
       "    <tr>\n",
       "      <th>2016-01-01</th>\n",
       "      <td>Zipper Ring Binder Pockets</td>\n",
       "      <td>3.0</td>\n",
       "    </tr>\n",
       "    <tr>\n",
       "      <th>2015-11-01</th>\n",
       "      <td>Zipper Ring Binder Pockets</td>\n",
       "      <td>4.0</td>\n",
       "    </tr>\n",
       "    <tr>\n",
       "      <th>2014-11-01</th>\n",
       "      <td>Zipper Ring Binder Pockets</td>\n",
       "      <td>6.0</td>\n",
       "    </tr>\n",
       "    <tr>\n",
       "      <th>2016-06-01</th>\n",
       "      <td>Zipper Ring Binder Pockets</td>\n",
       "      <td>6.0</td>\n",
       "    </tr>\n",
       "    <tr>\n",
       "      <th>2016-07-01</th>\n",
       "      <td>Zipper Ring Binder Pockets</td>\n",
       "      <td>10.0</td>\n",
       "    </tr>\n",
       "    <tr>\n",
       "      <th>2013-04-01</th>\n",
       "      <td>Zipper Ring Binder Pockets</td>\n",
       "      <td>14.0</td>\n",
       "    </tr>\n",
       "    <tr>\n",
       "      <th>2016-12-01</th>\n",
       "      <td>Zipper Ring Binder Pockets</td>\n",
       "      <td>15.0</td>\n",
       "    </tr>\n",
       "    <tr>\n",
       "      <th>2013-07-01</th>\n",
       "      <td>Zipper Ring Binder Pockets</td>\n",
       "      <td>16.0</td>\n",
       "    </tr>\n",
       "  </tbody>\n",
       "</table>\n",
       "</div>"
      ],
      "text/plain": [
       "                                   Product Name  Sales\n",
       "Month of Order Date                                   \n",
       "2015-07-01           Zipper Ring Binder Pockets    2.0\n",
       "2015-12-01           Zipper Ring Binder Pockets    3.0\n",
       "2016-01-01           Zipper Ring Binder Pockets    3.0\n",
       "2015-11-01           Zipper Ring Binder Pockets    4.0\n",
       "2014-11-01           Zipper Ring Binder Pockets    6.0\n",
       "2016-06-01           Zipper Ring Binder Pockets    6.0\n",
       "2016-07-01           Zipper Ring Binder Pockets   10.0\n",
       "2013-04-01           Zipper Ring Binder Pockets   14.0\n",
       "2016-12-01           Zipper Ring Binder Pockets   15.0\n",
       "2013-07-01           Zipper Ring Binder Pockets   16.0"
      ]
     },
     "execution_count": 81,
     "metadata": {},
     "output_type": "execute_result"
    }
   ],
   "source": [
    "df.tail(n=10)"
   ]
  },
  {
   "cell_type": "code",
   "execution_count": 84,
   "id": "7256cf2e",
   "metadata": {
    "collapsed": true
   },
   "outputs": [
    {
     "data": {
      "text/html": [
       "<div>\n",
       "<style scoped>\n",
       "    .dataframe tbody tr th:only-of-type {\n",
       "        vertical-align: middle;\n",
       "    }\n",
       "\n",
       "    .dataframe tbody tr th {\n",
       "        vertical-align: top;\n",
       "    }\n",
       "\n",
       "    .dataframe thead th {\n",
       "        text-align: right;\n",
       "    }\n",
       "</style>\n",
       "<table border=\"1\" class=\"dataframe\">\n",
       "  <thead>\n",
       "    <tr style=\"text-align: right;\">\n",
       "      <th></th>\n",
       "      <th>Sales</th>\n",
       "    </tr>\n",
       "  </thead>\n",
       "  <tbody>\n",
       "    <tr>\n",
       "      <th>count</th>\n",
       "      <td>9252.000000</td>\n",
       "    </tr>\n",
       "    <tr>\n",
       "      <th>mean</th>\n",
       "      <td>248.308798</td>\n",
       "    </tr>\n",
       "    <tr>\n",
       "      <th>std</th>\n",
       "      <td>669.441779</td>\n",
       "    </tr>\n",
       "    <tr>\n",
       "      <th>min</th>\n",
       "      <td>0.000000</td>\n",
       "    </tr>\n",
       "    <tr>\n",
       "      <th>25%</th>\n",
       "      <td>18.000000</td>\n",
       "    </tr>\n",
       "    <tr>\n",
       "      <th>50%</th>\n",
       "      <td>60.000000</td>\n",
       "    </tr>\n",
       "    <tr>\n",
       "      <th>75%</th>\n",
       "      <td>222.000000</td>\n",
       "    </tr>\n",
       "    <tr>\n",
       "      <th>max</th>\n",
       "      <td>22638.000000</td>\n",
       "    </tr>\n",
       "  </tbody>\n",
       "</table>\n",
       "</div>"
      ],
      "text/plain": [
       "              Sales\n",
       "count   9252.000000\n",
       "mean     248.308798\n",
       "std      669.441779\n",
       "min        0.000000\n",
       "25%       18.000000\n",
       "50%       60.000000\n",
       "75%      222.000000\n",
       "max    22638.000000"
      ]
     },
     "execution_count": 84,
     "metadata": {},
     "output_type": "execute_result"
    }
   ],
   "source": [
    "df.describe()"
   ]
  },
  {
   "cell_type": "code",
   "execution_count": 69,
   "id": "eaad5b28",
   "metadata": {
    "collapsed": true
   },
   "outputs": [
    {
     "name": "stdout",
     "output_type": "stream",
     "text": [
      "<class 'pandas.core.frame.DataFrame'>\n",
      "Int64Index: 9252 entries, 1 to 9252\n",
      "Data columns (total 3 columns):\n",
      " #   Column               Non-Null Count  Dtype \n",
      "---  ------               --------------  ----- \n",
      " 0   Month of Order Date  9252 non-null   object\n",
      " 1   Product Name         9252 non-null   object\n",
      " 2   Sales                9252 non-null   int64 \n",
      "dtypes: int64(1), object(2)\n",
      "memory usage: 289.1+ KB\n"
     ]
    }
   ],
   "source": [
    "df.info()"
   ]
  },
  {
   "cell_type": "code",
   "execution_count": 70,
   "id": "897ee753",
   "metadata": {
    "collapsed": true
   },
   "outputs": [
    {
     "data": {
      "text/plain": [
       "No.\n",
       "1       1.7 Cubic Foot Compact \"Cube\" Office Refrigera...\n",
       "2       1.7 Cubic Foot Compact \"Cube\" Office Refrigera...\n",
       "3       1.7 Cubic Foot Compact \"Cube\" Office Refrigera...\n",
       "4       1.7 Cubic Foot Compact \"Cube\" Office Refrigera...\n",
       "5       1.7 Cubic Foot Compact \"Cube\" Office Refrigera...\n",
       "                              ...                        \n",
       "9248                           Zipper Ring Binder Pockets\n",
       "9249                           Zipper Ring Binder Pockets\n",
       "9250                           Zipper Ring Binder Pockets\n",
       "9251                           Zipper Ring Binder Pockets\n",
       "9252                           Zipper Ring Binder Pockets\n",
       "Name: Product Name, Length: 9252, dtype: object"
      ]
     },
     "execution_count": 70,
     "metadata": {},
     "output_type": "execute_result"
    }
   ],
   "source": [
    "s = df[\"Product Name\"]\n",
    "s"
   ]
  },
  {
   "cell_type": "code",
   "execution_count": 71,
   "id": "e5fc8914",
   "metadata": {
    "collapsed": true
   },
   "outputs": [
    {
     "data": {
      "text/plain": [
       "Easy-staple paper                                              32\n",
       "Staples                                                        30\n",
       "Staple envelope                                                30\n",
       "Staples in misc. colors                                        18\n",
       "Avery Non-Stick Binders                                        14\n",
       "                                                               ..\n",
       "Xerox 20                                                        1\n",
       "Cisco Desktop Collaboration Experience DX650 IP Video Phone     1\n",
       "Cisco SPA 501G IP Phone                                         1\n",
       "Cisco SPA525G2 5-Line IP Phone                                  1\n",
       "Panasonic BusinessÊTelephonesÊKX-T7736                          1\n",
       "Name: Product Name, Length: 1850, dtype: int64"
      ]
     },
     "execution_count": 71,
     "metadata": {},
     "output_type": "execute_result"
    }
   ],
   "source": [
    "s.value_counts(dropna=False)"
   ]
  },
  {
   "cell_type": "code",
   "execution_count": 76,
   "id": "d8d74d94",
   "metadata": {
    "collapsed": true
   },
   "outputs": [
    {
     "data": {
      "text/plain": [
       "No.\n",
       "1       5/1/\n",
       "2       6/1/\n",
       "3       11/1\n",
       "4       7/1/\n",
       "5       11/1\n",
       "        ... \n",
       "9248    6/1/\n",
       "9249    7/1/\n",
       "9250    4/1/\n",
       "9251    12/1\n",
       "9252    7/1/\n",
       "Name: Month of Order Date, Length: 9252, dtype: object"
      ]
     },
     "execution_count": 76,
     "metadata": {},
     "output_type": "execute_result"
    }
   ],
   "source": [
    "df[\"Month of Order Date\"].str[:4]"
   ]
  },
  {
   "cell_type": "code",
   "execution_count": 3,
   "id": "4ecbfa7f",
   "metadata": {
    "collapsed": true
   },
   "outputs": [
    {
     "data": {
      "text/html": [
       "<div>\n",
       "<style scoped>\n",
       "    .dataframe tbody tr th:only-of-type {\n",
       "        vertical-align: middle;\n",
       "    }\n",
       "\n",
       "    .dataframe tbody tr th {\n",
       "        vertical-align: top;\n",
       "    }\n",
       "\n",
       "    .dataframe thead tr th {\n",
       "        text-align: left;\n",
       "    }\n",
       "\n",
       "    .dataframe thead tr:last-of-type th {\n",
       "        text-align: right;\n",
       "    }\n",
       "</style>\n",
       "<table border=\"1\" class=\"dataframe\">\n",
       "  <thead>\n",
       "    <tr>\n",
       "      <th></th>\n",
       "      <th colspan=\"8\" halign=\"left\">Sales</th>\n",
       "    </tr>\n",
       "    <tr>\n",
       "      <th></th>\n",
       "      <th>count</th>\n",
       "      <th>mean</th>\n",
       "      <th>std</th>\n",
       "      <th>min</th>\n",
       "      <th>25%</th>\n",
       "      <th>50%</th>\n",
       "      <th>75%</th>\n",
       "      <th>max</th>\n",
       "    </tr>\n",
       "    <tr>\n",
       "      <th>Month of Order Date</th>\n",
       "      <th></th>\n",
       "      <th></th>\n",
       "      <th></th>\n",
       "      <th></th>\n",
       "      <th></th>\n",
       "      <th></th>\n",
       "      <th></th>\n",
       "      <th></th>\n",
       "    </tr>\n",
       "  </thead>\n",
       "  <tbody>\n",
       "    <tr>\n",
       "      <th>2013</th>\n",
       "      <td>1875.0</td>\n",
       "      <td>258.267200</td>\n",
       "      <td>803.537374</td>\n",
       "      <td>1.0</td>\n",
       "      <td>17.0</td>\n",
       "      <td>55.0</td>\n",
       "      <td>224.00</td>\n",
       "      <td>22638.0</td>\n",
       "    </tr>\n",
       "    <tr>\n",
       "      <th>2014</th>\n",
       "      <td>1968.0</td>\n",
       "      <td>239.107215</td>\n",
       "      <td>521.330289</td>\n",
       "      <td>1.0</td>\n",
       "      <td>19.0</td>\n",
       "      <td>62.0</td>\n",
       "      <td>225.25</td>\n",
       "      <td>7312.0</td>\n",
       "    </tr>\n",
       "    <tr>\n",
       "      <th>2015</th>\n",
       "      <td>2400.0</td>\n",
       "      <td>253.550833</td>\n",
       "      <td>711.795040</td>\n",
       "      <td>1.0</td>\n",
       "      <td>19.0</td>\n",
       "      <td>58.5</td>\n",
       "      <td>222.00</td>\n",
       "      <td>17500.0</td>\n",
       "    </tr>\n",
       "    <tr>\n",
       "      <th>2016</th>\n",
       "      <td>3009.0</td>\n",
       "      <td>243.940512</td>\n",
       "      <td>627.741547</td>\n",
       "      <td>0.0</td>\n",
       "      <td>18.0</td>\n",
       "      <td>60.0</td>\n",
       "      <td>221.00</td>\n",
       "      <td>14000.0</td>\n",
       "    </tr>\n",
       "  </tbody>\n",
       "</table>\n",
       "</div>"
      ],
      "text/plain": [
       "                      Sales                                                   \\\n",
       "                      count        mean         std  min   25%   50%     75%   \n",
       "Month of Order Date                                                            \n",
       "2013                 1875.0  258.267200  803.537374  1.0  17.0  55.0  224.00   \n",
       "2014                 1968.0  239.107215  521.330289  1.0  19.0  62.0  225.25   \n",
       "2015                 2400.0  253.550833  711.795040  1.0  19.0  58.5  222.00   \n",
       "2016                 3009.0  243.940512  627.741547  0.0  18.0  60.0  221.00   \n",
       "\n",
       "                              \n",
       "                         max  \n",
       "Month of Order Date           \n",
       "2013                 22638.0  \n",
       "2014                  7312.0  \n",
       "2015                 17500.0  \n",
       "2016                 14000.0  "
      ]
     },
     "execution_count": 3,
     "metadata": {},
     "output_type": "execute_result"
    }
   ],
   "source": [
    "df.groupby(df[\"Month of Order Date\"].str[:4]).describe()"
   ]
  },
  {
   "cell_type": "code",
   "execution_count": null,
   "id": "bdc4b77a",
   "metadata": {
    "collapsed": true
   },
   "outputs": [],
   "source": []
  }
 ],
 "metadata": {
  "kernelspec": {
   "display_name": "Python 3 (ipykernel)",
   "language": "python",
   "name": "python3"
  },
  "language_info": {
   "codemirror_mode": {
    "name": "ipython",
    "version": 3
   },
   "file_extension": ".py",
   "mimetype": "text/x-python",
   "name": "python",
   "nbconvert_exporter": "python",
   "pygments_lexer": "ipython3",
   "version": "3.9.7"
  }
 },
 "nbformat": 4,
 "nbformat_minor": 5
}
