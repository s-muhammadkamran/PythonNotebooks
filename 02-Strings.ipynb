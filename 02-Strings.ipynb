{
 "cells": [
  {
   "cell_type": "code",
   "execution_count": 19,
   "id": "f97a82f3",
   "metadata": {},
   "outputs": [
    {
     "data": {
      "text/plain": [
       "True"
      ]
     },
     "execution_count": 19,
     "metadata": {},
     "output_type": "execute_result"
    }
   ],
   "source": [
    "x = 'Pluto is a planet'\n",
    "y = \"Pluto is a planet\"\n",
    "x == y"
   ]
  },
  {
   "cell_type": "code",
   "execution_count": 20,
   "id": "2b0bdd90",
   "metadata": {},
   "outputs": [
    {
     "name": "stdout",
     "output_type": "stream",
     "text": [
      "Pluto's a planet!\n",
      "My dog is named \"Pluto\"\n"
     ]
    }
   ],
   "source": [
    "print(\"Pluto's a planet!\")\n",
    "print('My dog is named \"Pluto\"')"
   ]
  },
  {
   "cell_type": "code",
   "execution_count": 21,
   "id": "1682c3f9",
   "metadata": {},
   "outputs": [
    {
     "name": "stdout",
     "output_type": "stream",
     "text": [
      "\n",
      "This is a very long string declaration.\n",
      "Wowwwww\n",
      "\n"
     ]
    }
   ],
   "source": [
    "#Multiline long string\n",
    "\n",
    "longSt = \"\"\"\n",
    "This is a very long string declaration.\n",
    "Wowwwww\n",
    "\"\"\"\n",
    "print(longSt)"
   ]
  },
  {
   "cell_type": "code",
   "execution_count": 22,
   "id": "b48e5d6e",
   "metadata": {},
   "outputs": [
    {
     "name": "stdout",
     "output_type": "stream",
     "text": [
      "hello\n",
      "world\n",
      "hello\n",
      "world\n"
     ]
    },
    {
     "data": {
      "text/plain": [
       "True"
      ]
     },
     "execution_count": 22,
     "metadata": {},
     "output_type": "execute_result"
    }
   ],
   "source": [
    "#Escape sequence \\n \\' \\\" \\\\\n",
    "\n",
    "hello = \"hello\\nworld\"\n",
    "print(hello)\n",
    "\n",
    "triplequoted_hello = \"\"\"hello\n",
    "world\"\"\"\n",
    "print(triplequoted_hello)\n",
    "triplequoted_hello == hello"
   ]
  },
  {
   "cell_type": "code",
   "execution_count": 23,
   "id": "f903326e",
   "metadata": {},
   "outputs": [
    {
     "data": {
      "text/plain": [
       "'P'"
      ]
     },
     "execution_count": 23,
     "metadata": {},
     "output_type": "execute_result"
    }
   ],
   "source": [
    "#Indexing\n",
    "\n",
    "planet = 'Pluto'\n",
    "planet[0]"
   ]
  },
  {
   "cell_type": "code",
   "execution_count": 24,
   "id": "00588e93",
   "metadata": {},
   "outputs": [
    {
     "data": {
      "text/plain": [
       "'uto'"
      ]
     },
     "execution_count": 24,
     "metadata": {},
     "output_type": "execute_result"
    }
   ],
   "source": [
    "# Slicing\n",
    "\n",
    "planet[-3:]"
   ]
  },
  {
   "cell_type": "code",
   "execution_count": 25,
   "id": "f6a22b0d",
   "metadata": {},
   "outputs": [
    {
     "data": {
      "text/plain": [
       "5"
      ]
     },
     "execution_count": 25,
     "metadata": {},
     "output_type": "execute_result"
    }
   ],
   "source": [
    "# How long is this string?\n",
    "\n",
    "len(planet)"
   ]
  },
  {
   "cell_type": "code",
   "execution_count": 26,
   "id": "6e1cd8ea",
   "metadata": {},
   "outputs": [
    {
     "data": {
      "text/plain": [
       "['P! ', 'L! ', 'U! ', 'T! ', 'O! ']"
      ]
     },
     "execution_count": 26,
     "metadata": {},
     "output_type": "execute_result"
    }
   ],
   "source": [
    "# Yes, we can even loop over them\n",
    "\n",
    "[char.upper()+'! ' for char in planet]"
   ]
  },
  {
   "cell_type": "code",
   "execution_count": 27,
   "id": "a1956af4",
   "metadata": {},
   "outputs": [],
   "source": [
    "#planet[0] = 'B'\n",
    "# planet.append doesn't work either"
   ]
  },
  {
   "cell_type": "code",
   "execution_count": 28,
   "id": "4d2e4ec2",
   "metadata": {},
   "outputs": [
    {
     "name": "stdout",
     "output_type": "stream",
     "text": [
      "Caps =  PLUTO IS A PLANET!\n",
      "Lower =  pluto is a planet!\n",
      "Index =  11\n",
      "Startwith =  True\n",
      "endswith =  False\n",
      "splitting =  ['Pluto', 'is', 'a', 'planet!']\n"
     ]
    }
   ],
   "source": [
    "#Methods\n",
    "claim = \"Pluto is a planet!\"\n",
    "\n",
    "# ALL CAPS\n",
    "print(\"Caps = \", claim.upper())\n",
    "# all lowercase\n",
    "print(\"Lower = \",claim.lower())\n",
    "# Searching for the first index of a substring\n",
    "print(\"Index = \",claim.index('plan'))\n",
    "# Check if it starts with a string\n",
    "print(\"Startwith = \",claim.startswith(planet))\n",
    "# false because of missing exclamation mark\n",
    "print(\"endswith = \",claim.endswith('planet'))\n",
    "#Splitting\n",
    "words = claim.split()\n",
    "print(\"splitting = \",words)"
   ]
  },
  {
   "cell_type": "code",
   "execution_count": 29,
   "id": "a0103745",
   "metadata": {},
   "outputs": [
    {
     "name": "stdout",
     "output_type": "stream",
     "text": [
      "1956 01 31\n"
     ]
    }
   ],
   "source": [
    "# spliting a string into variables using a split token\n",
    "\n",
    "datestr = '1956-01-31'\n",
    "year, month, day = datestr.split('-')\n",
    "print(year, month, day)"
   ]
  },
  {
   "cell_type": "code",
   "execution_count": 30,
   "id": "33803b11",
   "metadata": {},
   "outputs": [
    {
     "name": "stdout",
     "output_type": "stream",
     "text": [
      "1956/01/31\n"
     ]
    }
   ],
   "source": [
    "# joining a list of strings up into one long string\n",
    "\n",
    "print('/'.join([year,month,day]))"
   ]
  },
  {
   "cell_type": "code",
   "execution_count": 31,
   "id": "d039f07c",
   "metadata": {},
   "outputs": [
    {
     "data": {
      "text/plain": [
       "'PLUTO 👏 IS 👏 A 👏 PLANET!'"
      ]
     },
     "execution_count": 31,
     "metadata": {},
     "output_type": "execute_result"
    }
   ],
   "source": [
    "# Yes, we can put unicode characters right in our string literals :)\n",
    "' 👏 '.join([word.upper() for word in words])"
   ]
  },
  {
   "cell_type": "code",
   "execution_count": 32,
   "id": "214cf4ca",
   "metadata": {},
   "outputs": [
    {
     "data": {
      "text/plain": [
       "'Pluto, we miss you.'"
      ]
     },
     "execution_count": 32,
     "metadata": {},
     "output_type": "execute_result"
    }
   ],
   "source": [
    "planet + ', we miss you.'"
   ]
  },
  {
   "cell_type": "code",
   "execution_count": 33,
   "id": "0abf9d7f",
   "metadata": {},
   "outputs": [
    {
     "data": {
      "text/plain": [
       "\"Pluto, you'll always be the 9th planet to me.\""
      ]
     },
     "execution_count": 33,
     "metadata": {},
     "output_type": "execute_result"
    }
   ],
   "source": [
    "# str function to make a non string to string, error otherwise\n",
    "\n",
    "position = 9\n",
    "planet + \", you'll always be the \" + str(position) + \"th planet to me.\""
   ]
  },
  {
   "cell_type": "code",
   "execution_count": 34,
   "id": "ac65f1e2",
   "metadata": {},
   "outputs": [
    {
     "name": "stdout",
     "output_type": "stream",
     "text": [
      "Pluto, you'll always be the 9th planet to me.\n"
     ]
    }
   ],
   "source": [
    "#String formatting using {} and .format function\n",
    "\n",
    "msg = \"{}, you'll always be the {}th planet to me.\"\n",
    "print(msg.format(planet, position))"
   ]
  },
  {
   "cell_type": "code",
   "execution_count": 35,
   "id": "8626f0e0",
   "metadata": {},
   "outputs": [
    {
     "name": "stdout",
     "output_type": "stream",
     "text": [
      "Pluto weighs about 1.3e+22 kilograms (0.218% of Earth's mass). It is home to 52,910,390 Plutonians.\n"
     ]
    }
   ],
   "source": [
    "pluto_mass = 1.303 * 10**22\n",
    "earth_mass = 5.9722 * 10**24\n",
    "population = 52910390\n",
    "# 2 decimal points   3 decimal points, format as percent separate with commas\n",
    "msg = \"{} weighs about {:.2} kilograms ({:.3%} of Earth's mass). It is home to {:,} Plutonians.\"\n",
    "print(msg.format(planet, pluto_mass, pluto_mass / earth_mass, population))"
   ]
  },
  {
   "cell_type": "code",
   "execution_count": 36,
   "id": "0ea58d9c",
   "metadata": {},
   "outputs": [
    {
     "name": "stdout",
     "output_type": "stream",
     "text": [
      "Pluto's a planet.\n",
      "No, it's a dwarf planet.\n",
      "planet!\n",
      "dwarf planet!\n"
     ]
    }
   ],
   "source": [
    "# Referring to format() arguments by index, starting from 0\n",
    "\n",
    "s = \"\"\"Pluto's a {0}.\n",
    "No, it's a {1}.\n",
    "{0}!\n",
    "{1}!\"\"\"\n",
    "\n",
    "s = s.format('planet', 'dwarf planet')\n",
    "\n",
    "print(s)"
   ]
  },
  {
   "cell_type": "code",
   "execution_count": 41,
   "id": "b7272b2c",
   "metadata": {},
   "outputs": [
    {
     "ename": "TypeError",
     "evalue": "str.format_map() takes exactly one argument (0 given)",
     "output_type": "error",
     "traceback": [
      "\u001b[1;31m---------------------------------------------------------------------------\u001b[0m",
      "\u001b[1;31mTypeError\u001b[0m                                 Traceback (most recent call last)",
      "\u001b[1;32m~\\AppData\\Local\\Temp/ipykernel_17692/3409391130.py\u001b[0m in \u001b[0;36m<module>\u001b[1;34m\u001b[0m\n\u001b[1;32m----> 1\u001b[1;33m \u001b[1;34m'10,00,000+'\u001b[0m\u001b[1;33m.\u001b[0m\u001b[0mformat_map\u001b[0m\u001b[1;33m(\u001b[0m\u001b[1;33m)\u001b[0m\u001b[1;33m\u001b[0m\u001b[1;33m\u001b[0m\u001b[0m\n\u001b[0m",
      "\u001b[1;31mTypeError\u001b[0m: str.format_map() takes exactly one argument (0 given)"
     ]
    }
   ],
   "source": [
    "'10,000,000+'.format_map()"
   ]
  },
  {
   "cell_type": "code",
   "execution_count": null,
   "id": "b15403e2",
   "metadata": {},
   "outputs": [],
   "source": []
  }
 ],
 "metadata": {
  "kernelspec": {
   "display_name": "Python 3 (ipykernel)",
   "language": "python",
   "name": "python3"
  },
  "language_info": {
   "codemirror_mode": {
    "name": "ipython",
    "version": 3
   },
   "file_extension": ".py",
   "mimetype": "text/x-python",
   "name": "python",
   "nbconvert_exporter": "python",
   "pygments_lexer": "ipython3",
   "version": "3.9.7"
  }
 },
 "nbformat": 4,
 "nbformat_minor": 5
}
