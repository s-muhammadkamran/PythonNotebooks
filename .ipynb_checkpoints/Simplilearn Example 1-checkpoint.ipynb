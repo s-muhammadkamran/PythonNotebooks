{
 "cells": [
  {
   "cell_type": "markdown",
   "id": "c56acc43",
   "metadata": {},
   "source": [
    "# Variables"
   ]
  },
  {
   "cell_type": "code",
   "execution_count": 10,
   "id": "356b3e24",
   "metadata": {},
   "outputs": [],
   "source": [
    "car = \"BMW\"\n",
    "x, y, z = 15, \"BMW\", True  #Multiple variables in 1 line\n",
    "y = 10  #Change the type of value in variable y from text to int"
   ]
  },
  {
   "cell_type": "code",
   "execution_count": 12,
   "id": "7e75f224",
   "metadata": {},
   "outputs": [
    {
     "name": "stdout",
     "output_type": "stream",
     "text": [
      "X=Value=[15] id=[2308003621616]  Y=Value=[10] id=[2308003621456]  Z=Value[True] id=[140716751542376]\n"
     ]
    }
   ],
   "source": [
    "print(\"X=Value=[{4}] id=[{5}]  Y=Value=[{2}] id=[{3}]  Z=Value[{0}] id=[{1}]\".format(z, id(z), y, id(y), x, id(x)))"
   ]
  },
  {
   "cell_type": "code",
   "execution_count": 14,
   "id": "fc2f1713",
   "metadata": {},
   "outputs": [
    {
     "name": "stdout",
     "output_type": "stream",
     "text": [
      "X=Value=[100] id=[2308003812816]  Y=Value=[100] id=[2308003812816]  Z=Value[100] id=[2308003812816]\n"
     ]
    }
   ],
   "source": [
    "(x, y, z) = 100, 100, 100\n",
    "print(\"X=Value=[{4}] id=[{5}]  Y=Value=[{2}] id=[{3}]  Z=Value[{0}] id=[{1}]\".format(z, id(z), y, id(y), x, id(x)))"
   ]
  },
  {
   "cell_type": "code",
   "execution_count": 15,
   "id": "b13f4b18",
   "metadata": {},
   "outputs": [
    {
     "name": "stdout",
     "output_type": "stream",
     "text": [
      "X=Value=[200] id=[2308003816080]  Y=Value=[200] id=[2308003816080]  Z=Value[200] id=[2308003816080]\n"
     ]
    }
   ],
   "source": [
    "x = y = z = 200\n",
    "print(\"X=Value=[{4}] id=[{5}]  Y=Value=[{2}] id=[{3}]  Z=Value[{0}] id=[{1}]\".format(z, id(z), y, id(y), x, id(x)))"
   ]
  },
  {
   "cell_type": "code",
   "execution_count": 21,
   "id": "ffcf8404",
   "metadata": {},
   "outputs": [
    {
     "data": {
      "text/plain": [
       "True"
      ]
     },
     "execution_count": 21,
     "metadata": {},
     "output_type": "execute_result"
    }
   ],
   "source": [
    "bool(0.000000001)"
   ]
  },
  {
   "cell_type": "code",
   "execution_count": 37,
   "id": "fefe15a4",
   "metadata": {},
   "outputs": [
    {
     "name": "stdout",
     "output_type": "stream",
     "text": [
      "<class 'complex'> 8.0 4.0\n"
     ]
    }
   ],
   "source": [
    "c = 8 + 4j\n",
    "print(type(c), c.real, c.imag)"
   ]
  },
  {
   "cell_type": "code",
   "execution_count": 31,
   "id": "e057f841",
   "metadata": {},
   "outputs": [
    {
     "data": {
      "text/plain": [
       "4"
      ]
     },
     "execution_count": 31,
     "metadata": {},
     "output_type": "execute_result"
    }
   ],
   "source": [
    "int('0b100', base=0)"
   ]
  },
  {
   "cell_type": "markdown",
   "id": "b6cbde40",
   "metadata": {},
   "source": [
    "# Import"
   ]
  },
  {
   "cell_type": "code",
   "execution_count": 38,
   "id": "94021a53",
   "metadata": {},
   "outputs": [
    {
     "data": {
      "text/plain": [
       "0.6935178673595035"
      ]
     },
     "execution_count": 38,
     "metadata": {},
     "output_type": "execute_result"
    }
   ],
   "source": [
    "import random\n",
    "random.random()"
   ]
  },
  {
   "cell_type": "code",
   "execution_count": 66,
   "id": "8a7f529f",
   "metadata": {},
   "outputs": [],
   "source": [
    "from math import nan as n, pi as p, log as l "
   ]
  },
  {
   "cell_type": "code",
   "execution_count": 67,
   "id": "021463f7",
   "metadata": {},
   "outputs": [
    {
     "name": "stdout",
     "output_type": "stream",
     "text": [
      "nan 3.141592653589793 2.2617809780285065\n"
     ]
    }
   ],
   "source": [
    "print(n, p, l(23, 4))"
   ]
  },
  {
   "cell_type": "markdown",
   "id": "2afd7256",
   "metadata": {},
   "source": [
    "# Slicing"
   ]
  },
  {
   "cell_type": "code",
   "execution_count": 76,
   "id": "bd66ba88",
   "metadata": {},
   "outputs": [
    {
     "name": "stdout",
     "output_type": "stream",
     "text": [
      "(3, 4) (5, 6, 7, 8, 9) (3, 4, 5, 6, 7) (0, 1, 2, 3, 4, 5, 6, 7)\n"
     ]
    }
   ],
   "source": [
    "T1 = (0, 1, 2, 3, 4, 5, 6, 7, 8, 9)\n",
    "print(T1[3:5], T1[-5:], T1[3:-2], T1[:-2])"
   ]
  },
  {
   "cell_type": "markdown",
   "id": "ad94a2f3",
   "metadata": {},
   "source": [
    "# Handling Files"
   ]
  },
  {
   "cell_type": "code",
   "execution_count": 78,
   "id": "0ab6cf77",
   "metadata": {},
   "outputs": [],
   "source": [
    "path = \"C:\\\\Users\\\\smkamran\\\\PythonNotebooks\\Data.txt\"\n",
    "f1 = open(path, 'w') #opens the file in write mode"
   ]
  },
  {
   "cell_type": "code",
   "execution_count": 81,
   "id": "40bb5cf8",
   "metadata": {},
   "outputs": [],
   "source": [
    "f1.writelines(\"This is some text\")\n"
   ]
  },
  {
   "cell_type": "code",
   "execution_count": 82,
   "id": "857b3947",
   "metadata": {},
   "outputs": [],
   "source": [
    "f1.close()"
   ]
  },
  {
   "cell_type": "code",
   "execution_count": 97,
   "id": "36109cb6",
   "metadata": {},
   "outputs": [
    {
     "name": "stdout",
     "output_type": "stream",
     "text": [
      "['This is some textSome more textSome more text']\n",
      "['This is some textSome more textSome more textSome more text']\n"
     ]
    }
   ],
   "source": [
    "f1 = open(path, 'r+')\n",
    "print(f1.readlines())\n",
    "f1.writelines(\"Some more text\")\n",
    "f1.flush()\n",
    "f1.seek(0)\n",
    "print(f1.readlines())"
   ]
  },
  {
   "cell_type": "code",
   "execution_count": 112,
   "id": "08d8e109",
   "metadata": {},
   "outputs": [
    {
     "name": "stdout",
     "output_type": "stream",
     "text": [
      "['This is some very lengthy text document \\n', ' \\n', ' \\n', ' woowww! \\n', 'This is some very lengthy text document \\n', ' \\n', ' \\n', ' woowww! \\n']\n"
     ]
    }
   ],
   "source": [
    "f1.close()\n",
    "f1 = open(\"test.txt\", mode='a+', encoding='utf-8') \n",
    "f1.writelines(\"This is some very lengthy text document \\n \\n \\n woowww! \\n\")\n",
    "f1.flush()\n",
    "f1.seek(0)\n",
    "print(f1.readlines())\n",
    "f1.close()"
   ]
  },
  {
   "cell_type": "markdown",
   "id": "296267c2",
   "metadata": {},
   "source": [
    "# Sets"
   ]
  },
  {
   "cell_type": "code",
   "execution_count": 111,
   "id": "aeb20e77",
   "metadata": {},
   "outputs": [
    {
     "data": {
      "text/plain": [
       "{'n', 's', 't'}"
      ]
     },
     "execution_count": 111,
     "metadata": {},
     "output_type": "execute_result"
    }
   ],
   "source": [
    "s1 = set(\"Pakistan\")\n",
    "s2 = set(\"Paki\")\n",
    "s1 - s2"
   ]
  },
  {
   "cell_type": "markdown",
   "id": "5dfa7986",
   "metadata": {},
   "source": [
    "# Exception Handling and throwing"
   ]
  },
  {
   "cell_type": "code",
   "execution_count": 119,
   "id": "8416833d",
   "metadata": {},
   "outputs": [
    {
     "name": "stdout",
     "output_type": "stream",
     "text": [
      "The entry is a\n",
      "Oops! <class 'ValueError'> occurred.\n",
      "Next entry.\n",
      "==================================================\n",
      "The entry is 0\n",
      "Oops! <class 'ZeroDivisionError'> occurred.\n",
      "Next entry.\n",
      "==================================================\n",
      "The entry is 2\n",
      "==================================================\n",
      "The reciprocal of 2 is 0.5\n"
     ]
    }
   ],
   "source": [
    "# import module sys to get the type of exception\n",
    "import sys\n",
    "\n",
    "randomList = ['a', 0, 2]\n",
    "\n",
    "for entry in randomList:\n",
    "    try:\n",
    "        print(\"The entry is\", entry)\n",
    "        r = 1/int(entry)\n",
    "        break\n",
    "    except Exception as e:\n",
    "        print(\"Oops!\", e.__class__, \"occurred.\")\n",
    "        print(\"Next entry.\")\n",
    "    finally:\n",
    "        print(\"=\"*50)\n",
    "        \n",
    "print(\"The reciprocal of\", entry, \"is\", r)"
   ]
  },
  {
   "cell_type": "code",
   "execution_count": 120,
   "id": "cfa0a37e",
   "metadata": {},
   "outputs": [
    {
     "ename": "ValueError",
     "evalue": "That is not a positive number!",
     "output_type": "error",
     "traceback": [
      "\u001b[1;31m---------------------------------------------------------------------------\u001b[0m",
      "\u001b[1;31mValueError\u001b[0m                                Traceback (most recent call last)",
      "\u001b[1;32m~\\AppData\\Local\\Temp/ipykernel_22036/1697862942.py\u001b[0m in \u001b[0;36m<module>\u001b[1;34m\u001b[0m\n\u001b[1;32m----> 1\u001b[1;33m \u001b[1;32mraise\u001b[0m \u001b[0mValueError\u001b[0m\u001b[1;33m(\u001b[0m\u001b[1;34m\"That is not a positive number!\"\u001b[0m\u001b[1;33m)\u001b[0m\u001b[1;33m\u001b[0m\u001b[1;33m\u001b[0m\u001b[0m\n\u001b[0m",
      "\u001b[1;31mValueError\u001b[0m: That is not a positive number!"
     ]
    }
   ],
   "source": [
    "raise ValueError(\"That is not a positive number!\")"
   ]
  },
  {
   "cell_type": "markdown",
   "id": "b521fe7f",
   "metadata": {},
   "source": [
    "# Assertion"
   ]
  },
  {
   "cell_type": "code",
   "execution_count": 124,
   "id": "60b53253",
   "metadata": {},
   "outputs": [
    {
     "name": "stdout",
     "output_type": "stream",
     "text": [
      "Enter a number3\n"
     ]
    },
    {
     "ename": "AssertionError",
     "evalue": "",
     "output_type": "error",
     "traceback": [
      "\u001b[1;31m---------------------------------------------------------------------------\u001b[0m",
      "\u001b[1;31mAssertionError\u001b[0m                            Traceback (most recent call last)",
      "\u001b[1;32m~\\AppData\\Local\\Temp/ipykernel_22036/2108731725.py\u001b[0m in \u001b[0;36m<module>\u001b[1;34m\u001b[0m\n\u001b[0;32m      4\u001b[0m     \u001b[0mprint\u001b[0m\u001b[1;33m(\u001b[0m\u001b[1;34m'Not a number'\u001b[0m\u001b[1;33m)\u001b[0m\u001b[1;33m\u001b[0m\u001b[1;33m\u001b[0m\u001b[0m\n\u001b[0;32m      5\u001b[0m \u001b[1;32melse\u001b[0m\u001b[1;33m:\u001b[0m\u001b[1;33m\u001b[0m\u001b[1;33m\u001b[0m\u001b[0m\n\u001b[1;32m----> 6\u001b[1;33m     \u001b[1;32massert\u001b[0m \u001b[0mx\u001b[0m\u001b[1;33m%\u001b[0m\u001b[1;36m2\u001b[0m \u001b[1;33m==\u001b[0m \u001b[1;36m0\u001b[0m\u001b[1;33m\u001b[0m\u001b[1;33m\u001b[0m\u001b[0m\n\u001b[0m\u001b[0;32m      7\u001b[0m \u001b[1;33m\u001b[0m\u001b[0m\n\u001b[0;32m      8\u001b[0m \u001b[0mprint\u001b[0m\u001b[1;33m(\u001b[0m\u001b[1;34m\"It's an even number\"\u001b[0m\u001b[1;33m)\u001b[0m\u001b[1;33m\u001b[0m\u001b[1;33m\u001b[0m\u001b[0m\n",
      "\u001b[1;31mAssertionError\u001b[0m: "
     ]
    }
   ],
   "source": [
    "try:\n",
    "    x = int(input(\"Enter a number\"))\n",
    "except:\n",
    "    print('Not a number')\n",
    "else:\n",
    "    assert x%2 == 0\n",
    "\n",
    "print(\"It's an even number\")"
   ]
  },
  {
   "cell_type": "markdown",
   "id": "f63b65a3",
   "metadata": {},
   "source": [
    "# Anonymous functions lambda"
   ]
  },
  {
   "cell_type": "code",
   "execution_count": 126,
   "id": "47bec15c",
   "metadata": {},
   "outputs": [
    {
     "data": {
      "text/plain": [
       "131072"
      ]
     },
     "execution_count": 126,
     "metadata": {},
     "output_type": "execute_result"
    }
   ],
   "source": [
    "anonymous_function = lambda x, y, z: x*y**z  #This function has 3 args & only 1 exp, whose value is returned automatically and assigned to afunction variable which can be used.\n",
    "\n",
    "anonymous_function(2, 4, 8)"
   ]
  },
  {
   "cell_type": "code",
   "execution_count": 128,
   "id": "7c5bfdab",
   "metadata": {},
   "outputs": [
    {
     "name": "stdout",
     "output_type": "stream",
     "text": [
      "10\n"
     ]
    }
   ],
   "source": [
    "double = lambda x: x * 2 #anonymous function can have only 1 statement\n",
    "print(double(5)) "
   ]
  },
  {
   "cell_type": "code",
   "execution_count": 130,
   "id": "fb6975d5",
   "metadata": {},
   "outputs": [
    {
     "name": "stdout",
     "output_type": "stream",
     "text": [
      "Hello Monica\n",
      "Hello Luke\n",
      "Hello 12\n",
      "Hello John\n"
     ]
    }
   ],
   "source": [
    "def greet(*names):\n",
    "    \"\"\"This function greets all the person in the names tuple.\n",
    "           These comments will be shown by the help(defgreet) \"\"\"\n",
    "\n",
    "    # names is a tuple with arguments\n",
    "    for name in names:\n",
    "        print(\"Hello\", name)\n",
    "\n",
    "greet(\"Monica\", \"Luke\", 12, \"John\")"
   ]
  },
  {
   "cell_type": "code",
   "execution_count": 131,
   "id": "56071f84",
   "metadata": {},
   "outputs": [
    {
     "data": {
      "text/plain": [
       "[4, 6, 8, 12]"
      ]
     },
     "execution_count": 131,
     "metadata": {},
     "output_type": "execute_result"
    }
   ],
   "source": [
    "# Program to filter out only the even items from a list\n",
    "my_list = [1, 5, 4, 6, 8, 11, 3, 12]\n",
    "\n",
    "new_list = list(filter(lambda x: x%2 ==0, my_list))\n",
    "new_list"
   ]
  },
  {
   "cell_type": "code",
   "execution_count": 145,
   "id": "8a83164a",
   "metadata": {},
   "outputs": [
    {
     "name": "stdout",
     "output_type": "stream",
     "text": [
      "6\n",
      "20\n"
     ]
    }
   ],
   "source": [
    "x = 5  # X doesn't have to be declared here\n",
    "y = 20\n",
    "\n",
    "def callMe (x1):      #A variable not defined in a function has global scope to that file. Anything defined inside a function with global keyword also promoted to global scop\n",
    "    global x\n",
    "    x = x1 * 3\n",
    "    y = 2\n",
    "\n",
    "callMe(2)\n",
    "print (x)\n",
    "print (y)\n"
   ]
  },
  {
   "cell_type": "code",
   "execution_count": 149,
   "id": "b5ebead4",
   "metadata": {},
   "outputs": [
    {
     "name": "stdout",
     "output_type": "stream",
     "text": [
      "inner: nonlocal\n",
      "outer: nonlocal\n"
     ]
    }
   ],
   "source": [
    "def outer(): \n",
    "    x = \"local\"\n",
    "    def inner():     #Nested function\n",
    "        nonlocal x   #x value will be available in outer\n",
    "        x = \"nonlocal\"\n",
    "        print(\"inner:\", x)\n",
    "\n",
    "    inner()\n",
    "    print(\"outer:\", x)\n",
    "\n",
    "outer()"
   ]
  },
  {
   "cell_type": "code",
   "execution_count": 150,
   "id": "b90023b6",
   "metadata": {},
   "outputs": [
    {
     "data": {
      "text/plain": [
       "['C:\\\\Users\\\\smkamran\\\\PythonNotebooks',\n",
       " 'F:\\\\ProgramData\\\\Anaconda3\\\\python39.zip',\n",
       " 'F:\\\\ProgramData\\\\Anaconda3\\\\DLLs',\n",
       " 'F:\\\\ProgramData\\\\Anaconda3\\\\lib',\n",
       " 'F:\\\\ProgramData\\\\Anaconda3',\n",
       " '',\n",
       " 'F:\\\\ProgramData\\\\Anaconda3\\\\lib\\\\site-packages',\n",
       " 'F:\\\\ProgramData\\\\Anaconda3\\\\lib\\\\site-packages\\\\locket-0.2.1-py3.9.egg',\n",
       " 'F:\\\\ProgramData\\\\Anaconda3\\\\lib\\\\site-packages\\\\win32',\n",
       " 'F:\\\\ProgramData\\\\Anaconda3\\\\lib\\\\site-packages\\\\win32\\\\lib',\n",
       " 'F:\\\\ProgramData\\\\Anaconda3\\\\lib\\\\site-packages\\\\Pythonwin',\n",
       " 'F:\\\\ProgramData\\\\Anaconda3\\\\lib\\\\site-packages\\\\IPython\\\\extensions',\n",
       " 'C:\\\\Users\\\\smkamran\\\\.ipython']"
      ]
     },
     "execution_count": 150,
     "metadata": {},
     "output_type": "execute_result"
    }
   ],
   "source": [
    "import sys\n",
    "sys.path"
   ]
  },
  {
   "cell_type": "code",
   "execution_count": 151,
   "id": "80f75f1e",
   "metadata": {},
   "outputs": [
    {
     "name": "stdout",
     "output_type": "stream",
     "text": [
      "The Zen of Python, by Tim Peters\n",
      "\n",
      "Beautiful is better than ugly.\n",
      "Explicit is better than implicit.\n",
      "Simple is better than complex.\n",
      "Complex is better than complicated.\n",
      "Flat is better than nested.\n",
      "Sparse is better than dense.\n",
      "Readability counts.\n",
      "Special cases aren't special enough to break the rules.\n",
      "Although practicality beats purity.\n",
      "Errors should never pass silently.\n",
      "Unless explicitly silenced.\n",
      "In the face of ambiguity, refuse the temptation to guess.\n",
      "There should be one-- and preferably only one --obvious way to do it.\n",
      "Although that way may not be obvious at first unless you're Dutch.\n",
      "Now is better than never.\n",
      "Although never is often better than *right* now.\n",
      "If the implementation is hard to explain, it's a bad idea.\n",
      "If the implementation is easy to explain, it may be a good idea.\n",
      "Namespaces are one honking great idea -- let's do more of those!\n"
     ]
    }
   ],
   "source": [
    "import this"
   ]
  },
  {
   "cell_type": "code",
   "execution_count": null,
   "id": "321124f4",
   "metadata": {},
   "outputs": [],
   "source": []
  }
 ],
 "metadata": {
  "kernelspec": {
   "display_name": "Python 3 (ipykernel)",
   "language": "python",
   "name": "python3"
  },
  "language_info": {
   "codemirror_mode": {
    "name": "ipython",
    "version": 3
   },
   "file_extension": ".py",
   "mimetype": "text/x-python",
   "name": "python",
   "nbconvert_exporter": "python",
   "pygments_lexer": "ipython3",
   "version": "3.9.7"
  }
 },
 "nbformat": 4,
 "nbformat_minor": 5
}
