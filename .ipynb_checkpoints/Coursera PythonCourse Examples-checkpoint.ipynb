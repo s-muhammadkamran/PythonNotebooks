{
 "cells": [
  {
   "cell_type": "code",
   "execution_count": 3,
   "id": "0358f198",
   "metadata": {},
   "outputs": [
    {
     "name": "stdout",
     "output_type": "stream",
     "text": [
      "Insert your name:ABCD\n",
      "ABCD Is not an integer\n"
     ]
    }
   ],
   "source": [
    "inp = input(\"Insert your name:\")\n",
    "try:\n",
    "    inp = int(inp)\n",
    "    print(inp, \"Is an integer\")\n",
    "except:\n",
    "    print(inp, 'Is not an integer')"
   ]
  },
  {
   "cell_type": "code",
   "execution_count": 3,
   "id": "0a3f07e4",
   "metadata": {},
   "outputs": [],
   "source": [
    "def myFunc(inp):\n",
    "    inp = input(\"Insert your name:\")\n",
    "    try:\n",
    "        inp = int(inp)\n",
    "        return inp +' Is an integer'\n",
    "    except:\n",
    "        return inp +' Is not an integer'"
   ]
  },
  {
   "cell_type": "code",
   "execution_count": 5,
   "id": "cc5f3fa2",
   "metadata": {},
   "outputs": [
    {
     "name": "stdout",
     "output_type": "stream",
     "text": [
      "Insert your name:Muhammad Kamran Syed\n",
      "Muhammad Kamran Syed Is not an integer\n"
     ]
    }
   ],
   "source": [
    "print(myFunc('abc'))"
   ]
  }
 ],
 "metadata": {
  "kernelspec": {
   "display_name": "Python 3 (ipykernel)",
   "language": "python",
   "name": "python3"
  },
  "language_info": {
   "codemirror_mode": {
    "name": "ipython",
    "version": 3
   },
   "file_extension": ".py",
   "mimetype": "text/x-python",
   "name": "python",
   "nbconvert_exporter": "python",
   "pygments_lexer": "ipython3",
   "version": "3.9.7"
  }
 },
 "nbformat": 4,
 "nbformat_minor": 5
}
